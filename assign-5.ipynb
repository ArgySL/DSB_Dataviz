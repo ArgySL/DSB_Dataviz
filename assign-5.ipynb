{
 "cells": [
  {
   "cell_type": "code",
   "execution_count": 1,
   "metadata": {},
   "outputs": [],
   "source": [
    "import pandas as pd\n",
    "import numpy as np\n",
    "import matplotlib.pyplot as plt\n",
    "import seaborn as sb\n",
    "%matplotlib inline"
   ]
  },
  {
   "cell_type": "code",
   "execution_count": 2,
   "metadata": {},
   "outputs": [],
   "source": [
    "df = pd.read_csv('all_month.csv')\n"
   ]
  },
  {
   "cell_type": "code",
   "execution_count": null,
   "metadata": {},
   "outputs": [],
   "source": [
    "## Exploring  the data\n",
    "df.shape\n",
    "df.head()\n",
    "df.loc[0]\n",
    "df.isna().value_counts()\n",
    "df.describe()"
   ]
  },
  {
   "cell_type": "code",
   "execution_count": null,
   "metadata": {},
   "outputs": [],
   "source": [
    "## Creating a bar chart to display the top 5 most affected areas by the earthquakes\n",
    "\n",
    "place_counts = df['place'].value_counts()[:5].sort_values(ascending=False)\n",
    "\n",
    "ax = place_counts.plot(kind='bar', title='Top 5 Most Affected Areas', xlabel='Location', ylabel='Number of Incidents', figsize=(5, 5))\n",
    "plt.xticks(rotation = 40)\n",
    "\n",
    "for i, v in enumerate(place_counts):\n",
    "    ax.annotate(v, xy=(i, v), ha='center', va='bottom')\n",
    "\n",
    "plt.show()\n"
   ]
  },
  {
   "cell_type": "code",
   "execution_count": null,
   "metadata": {},
   "outputs": [],
   "source": [
    "\n",
    "\n",
    "## Creating a pie chart to display automatic events awaiting reviewing vs already reviewed events\n",
    "status_counts = df['status'].value_counts()\n",
    "fig, ax = plt.subplots()\n",
    "ax.set_title(\"Automatic events vs Reviewed events\")\n",
    "ax.pie(status_counts.values, labels= status_counts.index, autopct='%1.01f%%', shadow = True, startangle = 90)\n",
    "plt.show()"
   ]
  },
  {
   "cell_type": "code",
   "execution_count": null,
   "metadata": {},
   "outputs": [],
   "source": [
    "## Creating a box plot to explore the outliers of the magnitute of the recorded events.\n",
    "## A violin plot was instead used to also visualise the distribution of the earthquakes' magnitude\n",
    "magt = df['magType'].value_counts()\n",
    "sb.violinplot(df['mag'], color = 'darkorange')\n",
    "plt.ylabel('Magnitude (in Richter)')\n",
    "plt.rcParams[\"figure.figsize\"] = (5,5)\n",
    "plt.show()"
   ]
  },
  {
   "cell_type": "code",
   "execution_count": null,
   "metadata": {},
   "outputs": [],
   "source": [
    "## Creating a scatterplot to show the distribution of earthquake events in depth, as well as in magnitude\n",
    "sb.scatterplot(x=df['depth'], y=df['mag'])\n",
    "plt.xlabel('Depth (in km)')\n",
    "plt.ylabel('Magnitude (in Richter)')\n",
    "plt.rcParams[\"figure.figsize\"] = (20, 5)\n",
    "plt.show()"
   ]
  },
  {
   "cell_type": "code",
   "execution_count": null,
   "metadata": {},
   "outputs": [],
   "source": [
    "## Creating a line chart to display the magnitude of recent quakes over time\n",
    "## First I had to turn the 'time' series of type object into a type date to be able to do a time series analysis on the data.\n",
    "df['time'] = pd.to_datetime(df['time'])\n",
    "df1 = df[['time', 'mag']]\n",
    "\n",
    "df1 = df.sort_values('time')\n",
    "\n",
    "\n",
    "plt.plot(df1['time'], df1['mag'])\n",
    "plt.title('Earthquake Magnitude over Time')\n",
    "plt.xlabel('Recent Incidents')\n",
    "plt.ylabel('Magnitude')\n",
    "plt.xticks(rotation=45)\n",
    "plt.show()"
   ]
  }
 ],
 "metadata": {
  "kernelspec": {
   "display_name": "Python 3",
   "language": "python",
   "name": "python3"
  },
  "language_info": {
   "codemirror_mode": {
    "name": "ipython",
    "version": 3
   },
   "file_extension": ".py",
   "mimetype": "text/x-python",
   "name": "python",
   "nbconvert_exporter": "python",
   "pygments_lexer": "ipython3",
   "version": "3.10.9"
  },
  "orig_nbformat": 4
 },
 "nbformat": 4,
 "nbformat_minor": 2
}
